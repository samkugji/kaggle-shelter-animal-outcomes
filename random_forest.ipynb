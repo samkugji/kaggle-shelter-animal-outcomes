{
 "cells": [
  {
   "cell_type": "code",
   "execution_count": 1,
   "metadata": {
    "collapsed": true
   },
   "outputs": [],
   "source": [
    "#! usr/bin/env/python3\n",
    "#-*- coding: utf-8 -*-"
   ]
  },
  {
   "cell_type": "code",
   "execution_count": 2,
   "metadata": {
    "collapsed": false
   },
   "outputs": [],
   "source": [
    "# from sklearn import svm\n",
    "from sklearn.ensemble import RandomForestClassifier\n",
    "from sklearn.linear_model import LogisticRegression\n",
    "from sklearn.preprocessing import LabelEncoder\n",
    "import pandas as pd\n",
    "import seaborn as sns\n",
    "import sklearn as sk\n",
    "import numpy as np\n",
    "import matplotlib.pyplot as plt\n",
    "\n",
    "sns.set()\n",
    "\n",
    "# plt.rc('font',family='AppleGothic')"
   ]
  },
  {
   "cell_type": "code",
   "execution_count": 3,
   "metadata": {
    "collapsed": true
   },
   "outputs": [],
   "source": [
    "# Dataframe 전체 출력 함수\n",
    "def print_full(x):\n",
    "    pd.set_option('display.max_rows', len(x))\n",
    "    print(x)\n",
    "    pd.reset_option('display.max_rows')"
   ]
  },
  {
   "cell_type": "code",
   "execution_count": 4,
   "metadata": {
    "collapsed": false
   },
   "outputs": [
    {
     "data": {
      "text/html": [
       "<div>\n",
       "<table border=\"1\" class=\"dataframe\">\n",
       "  <thead>\n",
       "    <tr style=\"text-align: right;\">\n",
       "      <th></th>\n",
       "      <th>Name</th>\n",
       "      <th>Cat</th>\n",
       "      <th>Dog</th>\n",
       "      <th>Intact Female</th>\n",
       "      <th>Intact Male</th>\n",
       "      <th>Neutered Male</th>\n",
       "      <th>Spayed Female</th>\n",
       "      <th>OutcomeType_label</th>\n",
       "    </tr>\n",
       "  </thead>\n",
       "  <tbody>\n",
       "    <tr>\n",
       "      <th>0</th>\n",
       "      <td>1</td>\n",
       "      <td>0</td>\n",
       "      <td>1</td>\n",
       "      <td>0</td>\n",
       "      <td>0</td>\n",
       "      <td>1</td>\n",
       "      <td>0</td>\n",
       "      <td>3</td>\n",
       "    </tr>\n",
       "    <tr>\n",
       "      <th>1</th>\n",
       "      <td>1</td>\n",
       "      <td>1</td>\n",
       "      <td>0</td>\n",
       "      <td>0</td>\n",
       "      <td>0</td>\n",
       "      <td>0</td>\n",
       "      <td>1</td>\n",
       "      <td>2</td>\n",
       "    </tr>\n",
       "    <tr>\n",
       "      <th>2</th>\n",
       "      <td>1</td>\n",
       "      <td>0</td>\n",
       "      <td>1</td>\n",
       "      <td>0</td>\n",
       "      <td>0</td>\n",
       "      <td>1</td>\n",
       "      <td>0</td>\n",
       "      <td>0</td>\n",
       "    </tr>\n",
       "    <tr>\n",
       "      <th>3</th>\n",
       "      <td>0</td>\n",
       "      <td>1</td>\n",
       "      <td>0</td>\n",
       "      <td>0</td>\n",
       "      <td>1</td>\n",
       "      <td>0</td>\n",
       "      <td>0</td>\n",
       "      <td>4</td>\n",
       "    </tr>\n",
       "    <tr>\n",
       "      <th>4</th>\n",
       "      <td>0</td>\n",
       "      <td>0</td>\n",
       "      <td>1</td>\n",
       "      <td>0</td>\n",
       "      <td>0</td>\n",
       "      <td>1</td>\n",
       "      <td>0</td>\n",
       "      <td>4</td>\n",
       "    </tr>\n",
       "  </tbody>\n",
       "</table>\n",
       "</div>"
      ],
      "text/plain": [
       "   Name  Cat  Dog  Intact Female  Intact Male  Neutered Male  Spayed Female  \\\n",
       "0     1    0    1              0            0              1              0   \n",
       "1     1    1    0              0            0              0              1   \n",
       "2     1    0    1              0            0              1              0   \n",
       "3     0    1    0              0            1              0              0   \n",
       "4     0    0    1              0            0              1              0   \n",
       "\n",
       "   OutcomeType_label  \n",
       "0                  3  \n",
       "1                  2  \n",
       "2                  0  \n",
       "3                  4  \n",
       "4                  4  "
      ]
     },
     "execution_count": 4,
     "metadata": {},
     "output_type": "execute_result"
    }
   ],
   "source": [
    "data = pd.DataFrame.from_csv(\"name_and_train_simple_preprocess.csv\")\n",
    "data.head()"
   ]
  },
  {
   "cell_type": "code",
   "execution_count": 5,
   "metadata": {
    "collapsed": false
   },
   "outputs": [
    {
     "name": "stdout",
     "output_type": "stream",
     "text": [
      "   Name  Cat  Dog  Intact Female  Intact Male  Neutered Male  Spayed Female\n",
      "0     1    0    1              0            0              1              0\n",
      "1     1    1    0              0            0              0              1\n",
      "2     1    0    1              0            0              1              0\n",
      "3     0    1    0              0            1              0              0\n",
      "4     0    0    1              0            0              1              0\n"
     ]
    }
   ],
   "source": [
    "X = data[['Name', 'Cat', 'Dog', 'Intact Female',\n",
    "         'Intact Male', 'Neutered Male','Spayed Female']]\n",
    "\n",
    "print(X.head())"
   ]
  },
  {
   "cell_type": "code",
   "execution_count": 6,
   "metadata": {
    "collapsed": false
   },
   "outputs": [
    {
     "data": {
      "text/plain": [
       "0    3\n",
       "1    2\n",
       "2    0\n",
       "3    4\n",
       "4    4\n",
       "Name: OutcomeType_label, dtype: int64"
      ]
     },
     "execution_count": 6,
     "metadata": {},
     "output_type": "execute_result"
    }
   ],
   "source": [
    "y = data['OutcomeType_label']\n",
    "y.head()"
   ]
  },
  {
   "cell_type": "markdown",
   "metadata": {},
   "source": [
    "In the multiclass case, the training algorithm uses the one-vs-rest (OvR) scheme if the ‘multi_class’ option is set to ‘ovr’ and uses the cross-entropy loss, if the ‘multi_class’ option is set to ‘multinomial’"
   ]
  },
  {
   "cell_type": "raw",
   "metadata": {
    "collapsed": false
   },
   "source": [
    "model_logistic = LogisticRegression(\n",
    "    C=1000, solver='lbfgs',multi_class='multinomial').fit(X, y)\n",
    "y_pred = model_logistic.predict(X)\n",
    "\n",
    "# show full array\n",
    "np.set_printoptions(threshold=np.nan)\n",
    "print(y_pred)"
   ]
  },
  {
   "cell_type": "code",
   "execution_count": 7,
   "metadata": {
    "collapsed": false
   },
   "outputs": [
    {
     "name": "stdout",
     "output_type": "stream",
     "text": [
      "score :  0.389838751917\n"
     ]
    }
   ],
   "source": [
    "clf = RandomForestClassifier(\n",
    "    n_estimators=100, criterion='entropy', max_depth=None,\n",
    "    min_weight_fraction_leaf=0.0, max_features='auto', max_leaf_nodes=None,\n",
    "    bootstrap=True, oob_score=False,\n",
    "    n_jobs=1, random_state=None, verbose=0, warm_start=False, class_weight=\"balanced\")\n",
    "\n",
    "model_rand_forest = RandomForestClassifier.fit(clf, X, y)\n",
    "train_predict = model_rand_forest.predict(X)\n",
    "train_predict_proba = model_rand_forest.predict_proba(X)\n",
    "\n",
    "train_score = model_rand_forest.score(X, y)\n",
    "print(\"score : \", train_score)"
   ]
  },
  {
   "cell_type": "code",
   "execution_count": 8,
   "metadata": {
    "collapsed": false
   },
   "outputs": [
    {
     "name": "stdout",
     "output_type": "stream",
     "text": [
      "[3 0 3 ..., 3 1 1]\n",
      "[[ 0.26467534  0.04503874  0.14586705  0.42982312  0.11459575]\n",
      " [ 0.51321826  0.09180453  0.08173031  0.12822359  0.1850233 ]\n",
      " [ 0.26467534  0.04503874  0.14586705  0.42982312  0.11459575]\n",
      " ..., \n",
      " [ 0.26467534  0.04503874  0.14586705  0.42982312  0.11459575]\n",
      " [ 0.00060541  0.4212221   0.28855139  0.00137951  0.2882416 ]\n",
      " [ 0.00060541  0.4212221   0.28855139  0.00137951  0.2882416 ]]\n"
     ]
    }
   ],
   "source": [
    "# np.set_printoptions(threshold=np.nan)\n",
    "print(train_predict)\n",
    "print(train_predict_proba)"
   ]
  },
  {
   "cell_type": "code",
   "execution_count": 9,
   "metadata": {
    "collapsed": false
   },
   "outputs": [
    {
     "data": {
      "text/html": [
       "<div>\n",
       "<table border=\"1\" class=\"dataframe\">\n",
       "  <thead>\n",
       "    <tr style=\"text-align: right;\">\n",
       "      <th></th>\n",
       "      <th>ID</th>\n",
       "      <th>Name</th>\n",
       "      <th>DateTime</th>\n",
       "      <th>AnimalType</th>\n",
       "      <th>SexuponOutcome</th>\n",
       "      <th>AgeuponOutcome</th>\n",
       "      <th>Breed</th>\n",
       "      <th>Color</th>\n",
       "    </tr>\n",
       "  </thead>\n",
       "  <tbody>\n",
       "    <tr>\n",
       "      <th>0</th>\n",
       "      <td>1</td>\n",
       "      <td>Summer</td>\n",
       "      <td>2015-10-12 12:15:00</td>\n",
       "      <td>Dog</td>\n",
       "      <td>Intact Female</td>\n",
       "      <td>10 months</td>\n",
       "      <td>Labrador Retriever Mix</td>\n",
       "      <td>Red/White</td>\n",
       "    </tr>\n",
       "    <tr>\n",
       "      <th>1</th>\n",
       "      <td>2</td>\n",
       "      <td>Cheyenne</td>\n",
       "      <td>2014-07-26 17:59:00</td>\n",
       "      <td>Dog</td>\n",
       "      <td>Spayed Female</td>\n",
       "      <td>2 years</td>\n",
       "      <td>German Shepherd/Siberian Husky</td>\n",
       "      <td>Black/Tan</td>\n",
       "    </tr>\n",
       "    <tr>\n",
       "      <th>2</th>\n",
       "      <td>3</td>\n",
       "      <td>Gus</td>\n",
       "      <td>2016-01-13 12:20:00</td>\n",
       "      <td>Cat</td>\n",
       "      <td>Neutered Male</td>\n",
       "      <td>1 year</td>\n",
       "      <td>Domestic Shorthair Mix</td>\n",
       "      <td>Brown Tabby</td>\n",
       "    </tr>\n",
       "    <tr>\n",
       "      <th>3</th>\n",
       "      <td>4</td>\n",
       "      <td>Pongo</td>\n",
       "      <td>2013-12-28 18:12:00</td>\n",
       "      <td>Dog</td>\n",
       "      <td>Intact Male</td>\n",
       "      <td>4 months</td>\n",
       "      <td>Collie Smooth Mix</td>\n",
       "      <td>Tricolor</td>\n",
       "    </tr>\n",
       "    <tr>\n",
       "      <th>4</th>\n",
       "      <td>5</td>\n",
       "      <td>Skooter</td>\n",
       "      <td>2015-09-24 17:59:00</td>\n",
       "      <td>Dog</td>\n",
       "      <td>Neutered Male</td>\n",
       "      <td>2 years</td>\n",
       "      <td>Miniature Poodle Mix</td>\n",
       "      <td>White</td>\n",
       "    </tr>\n",
       "  </tbody>\n",
       "</table>\n",
       "</div>"
      ],
      "text/plain": [
       "   ID      Name             DateTime AnimalType SexuponOutcome AgeuponOutcome  \\\n",
       "0   1    Summer  2015-10-12 12:15:00        Dog  Intact Female      10 months   \n",
       "1   2  Cheyenne  2014-07-26 17:59:00        Dog  Spayed Female        2 years   \n",
       "2   3       Gus  2016-01-13 12:20:00        Cat  Neutered Male         1 year   \n",
       "3   4     Pongo  2013-12-28 18:12:00        Dog    Intact Male       4 months   \n",
       "4   5   Skooter  2015-09-24 17:59:00        Dog  Neutered Male        2 years   \n",
       "\n",
       "                            Breed        Color  \n",
       "0          Labrador Retriever Mix    Red/White  \n",
       "1  German Shepherd/Siberian Husky    Black/Tan  \n",
       "2          Domestic Shorthair Mix  Brown Tabby  \n",
       "3               Collie Smooth Mix     Tricolor  \n",
       "4            Miniature Poodle Mix        White  "
      ]
     },
     "execution_count": 9,
     "metadata": {},
     "output_type": "execute_result"
    }
   ],
   "source": [
    "raw_test_data = pd.DataFrame.from_csv(\"test.csv\", index_col=False)\n",
    "test_data = pd.DataFrame.from_csv(\"test_simple_preprocess.csv\")\n",
    "raw_test_data.head()"
   ]
  },
  {
   "cell_type": "code",
   "execution_count": 10,
   "metadata": {
    "collapsed": false
   },
   "outputs": [
    {
     "name": "stdout",
     "output_type": "stream",
     "text": [
      "          ID  Adoption      Died  Euthanasia  Return_to_owner  Transfer\n",
      "0          1  0.000474  0.346535    0.391020         0.032795  0.229177\n",
      "1          2  0.580862  0.054388    0.072507         0.057529  0.234714\n",
      "2          3  0.284870  0.171411    0.364566         0.019178  0.159975\n",
      "3          4  0.001594  0.308991    0.419353         0.033217  0.236845\n",
      "4          5  0.504721  0.052788    0.126518         0.065584  0.250389\n",
      "5          6  0.504721  0.052788    0.126518         0.065584  0.250389\n",
      "6          7  0.284870  0.171411    0.364566         0.019178  0.159975\n",
      "7          8  0.300479  0.269638    0.230656         0.047774  0.151453\n",
      "8          9  0.580862  0.054388    0.072507         0.057529  0.234714\n",
      "9         10  0.580862  0.054388    0.072507         0.057529  0.234714\n",
      "10        11  0.580862  0.054388    0.072507         0.057529  0.234714\n",
      "11        12  0.000474  0.346535    0.391020         0.032795  0.229177\n",
      "12        13  0.580862  0.054388    0.072507         0.057529  0.234714\n",
      "13        14  0.264675  0.045039    0.145867         0.429823  0.114596\n",
      "14        15  0.504721  0.052788    0.126518         0.065584  0.250389\n",
      "15        16  0.580862  0.054388    0.072507         0.057529  0.234714\n",
      "16        17  0.504721  0.052788    0.126518         0.065584  0.250389\n",
      "17        18  0.504721  0.052788    0.126518         0.065584  0.250389\n",
      "18        19  0.300479  0.269638    0.230656         0.047774  0.151453\n",
      "19        20  0.077420  0.487990    0.144989         0.018960  0.270641\n",
      "20        21  0.300479  0.269638    0.230656         0.047774  0.151453\n",
      "21        22  0.000000  0.373670    0.261042         0.052116  0.313171\n",
      "22        23  0.504721  0.052788    0.126518         0.065584  0.250389\n",
      "23        24  0.077420  0.487990    0.144989         0.018960  0.270641\n",
      "24        25  0.580862  0.054388    0.072507         0.057529  0.234714\n",
      "25        26  0.485977  0.084164    0.091347         0.161203  0.177308\n",
      "26        27  0.300479  0.269638    0.230656         0.047774  0.151453\n",
      "27        28  0.021504  0.086755    0.340546         0.370612  0.180582\n",
      "28        29  0.504721  0.052788    0.126518         0.065584  0.250389\n",
      "29        30  0.504721  0.052788    0.126518         0.065584  0.250389\n",
      "...      ...       ...       ...         ...              ...       ...\n",
      "11426  11427  0.504721  0.052788    0.126518         0.065584  0.250389\n",
      "11427  11428  0.000474  0.346535    0.391020         0.032795  0.229177\n",
      "11428  11429  0.504721  0.052788    0.126518         0.065584  0.250389\n",
      "11429  11430  0.580862  0.054388    0.072507         0.057529  0.234714\n",
      "11430  11431  0.513218  0.091805    0.081730         0.128224  0.185023\n",
      "11431  11432  0.046419  0.673961    0.099625         0.007480  0.172515\n",
      "11432  11433  0.580862  0.054388    0.072507         0.057529  0.234714\n",
      "11433  11434  0.001562  0.334860    0.290679         0.002325  0.370573\n",
      "11434  11435  0.580862  0.054388    0.072507         0.057529  0.234714\n",
      "11435  11436  0.046419  0.673961    0.099625         0.007480  0.172515\n",
      "11436  11437  0.485977  0.084164    0.091347         0.161203  0.177308\n",
      "11437  11438  0.000474  0.346535    0.391020         0.032795  0.229177\n",
      "11438  11439  0.264675  0.045039    0.145867         0.429823  0.114596\n",
      "11439  11440  0.580862  0.054388    0.072507         0.057529  0.234714\n",
      "11440  11441  0.000000  0.373670    0.261042         0.052116  0.313171\n",
      "11441  11442  0.504721  0.052788    0.126518         0.065584  0.250389\n",
      "11442  11443  0.504721  0.052788    0.126518         0.065584  0.250389\n",
      "11443  11444  0.300479  0.269638    0.230656         0.047774  0.151453\n",
      "11444  11445  0.077420  0.487990    0.144989         0.018960  0.270641\n",
      "11445  11446  0.046419  0.673961    0.099625         0.007480  0.172515\n",
      "11446  11447  0.485977  0.084164    0.091347         0.161203  0.177308\n",
      "11447  11448  0.580862  0.054388    0.072507         0.057529  0.234714\n",
      "11448  11449  0.319425  0.035783    0.124110         0.414201  0.106481\n",
      "11449  11450  0.580862  0.054388    0.072507         0.057529  0.234714\n",
      "11450  11451  0.504721  0.052788    0.126518         0.065584  0.250389\n",
      "11451  11452  0.485977  0.084164    0.091347         0.161203  0.177308\n",
      "11452  11453  0.077420  0.487990    0.144989         0.018960  0.270641\n",
      "11453  11454  0.077420  0.487990    0.144989         0.018960  0.270641\n",
      "11454  11455  0.504721  0.052788    0.126518         0.065584  0.250389\n",
      "11455  11456  0.001594  0.308991    0.419353         0.033217  0.236845\n",
      "\n",
      "[11456 rows x 6 columns]\n"
     ]
    }
   ],
   "source": [
    "train_predict = model_rand_forest.predict(test_data)\n",
    "train_predict_proba = model_rand_forest.predict_proba(test_data)\n",
    "\n",
    "result_df = pd.concat(\n",
    "    [\n",
    "        raw_test_data['ID'],\n",
    "        pd.DataFrame(\n",
    "            train_predict_proba,\n",
    "            columns=['Adoption','Died','Euthanasia','Return_to_owner','Transfer']\n",
    "        )\n",
    "    ], axis=1\n",
    ")\n",
    "print(result_df)"
   ]
  },
  {
   "cell_type": "code",
   "execution_count": 11,
   "metadata": {
    "collapsed": true
   },
   "outputs": [],
   "source": [
    "result_df.to_csv(\"randomforest_2feature.csv\", index=False)"
   ]
  }
 ],
 "metadata": {
  "kernelspec": {
   "display_name": "Python 3",
   "language": "python",
   "name": "python3"
  },
  "language_info": {
   "codemirror_mode": {
    "name": "ipython",
    "version": 3
   },
   "file_extension": ".py",
   "mimetype": "text/x-python",
   "name": "python",
   "nbconvert_exporter": "python",
   "pygments_lexer": "ipython3",
   "version": "3.5.0"
  }
 },
 "nbformat": 4,
 "nbformat_minor": 0
}
